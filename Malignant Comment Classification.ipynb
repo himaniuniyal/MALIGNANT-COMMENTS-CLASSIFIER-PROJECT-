{
 "cells": [
  {
   "cell_type": "code",
   "execution_count": 2,
   "id": "df0b7de9",
   "metadata": {},
   "outputs": [],
   "source": [
    "##Importing all necessary libraries\n",
    "import numpy as np\n",
    "import pandas as pd\n",
    "import seaborn as sns\n",
    "import matplotlib.pyplot as plt"
   ]
  },
  {
   "cell_type": "code",
   "execution_count": 3,
   "id": "d956ca23",
   "metadata": {},
   "outputs": [
    {
     "data": {
      "text/html": [
       "<div>\n",
       "<style scoped>\n",
       "    .dataframe tbody tr th:only-of-type {\n",
       "        vertical-align: middle;\n",
       "    }\n",
       "\n",
       "    .dataframe tbody tr th {\n",
       "        vertical-align: top;\n",
       "    }\n",
       "\n",
       "    .dataframe thead th {\n",
       "        text-align: right;\n",
       "    }\n",
       "</style>\n",
       "<table border=\"1\" class=\"dataframe\">\n",
       "  <thead>\n",
       "    <tr style=\"text-align: right;\">\n",
       "      <th></th>\n",
       "      <th>Data Analytics  -Indian Stock Market Top 2000</th>\n",
       "      <th>Unnamed: 1</th>\n",
       "      <th>Unnamed: 2</th>\n",
       "      <th>Unnamed: 3</th>\n",
       "      <th>Unnamed: 4</th>\n",
       "      <th>Unnamed: 5</th>\n",
       "      <th>Unnamed: 6</th>\n",
       "      <th>Unnamed: 7</th>\n",
       "      <th>Unnamed: 8</th>\n",
       "      <th>Unnamed: 9</th>\n",
       "      <th>Unnamed: 10</th>\n",
       "      <th>Unnamed: 11</th>\n",
       "      <th>Unnamed: 12</th>\n",
       "      <th>Unnamed: 13</th>\n",
       "      <th>Unnamed: 14</th>\n",
       "      <th>Unnamed: 15</th>\n",
       "    </tr>\n",
       "  </thead>\n",
       "  <tbody>\n",
       "    <tr>\n",
       "      <th>0</th>\n",
       "      <td>Name</td>\n",
       "      <td>Ticker</td>\n",
       "      <td>Sub-Sector</td>\n",
       "      <td>Market Cap</td>\n",
       "      <td>Close Price</td>\n",
       "      <td>PE Ratio</td>\n",
       "      <td>Return on Equity</td>\n",
       "      <td>Return on Assets</td>\n",
       "      <td>Net Profit Margin</td>\n",
       "      <td>5Y Avg EBITDA Margin</td>\n",
       "      <td>EBITDA Margin</td>\n",
       "      <td>1Y Return vs Nifty</td>\n",
       "      <td>5Y CAGR</td>\n",
       "      <td>Debt to Equity</td>\n",
       "      <td>Long Term Debt to Equity</td>\n",
       "      <td>NaN</td>\n",
       "    </tr>\n",
       "    <tr>\n",
       "      <th>1</th>\n",
       "      <td>Reliance Industries Ltd</td>\n",
       "      <td>RELIANCE</td>\n",
       "      <td>Oil &amp; Gas - Refining &amp; Marketing</td>\n",
       "      <td>1679534.21004169</td>\n",
       "      <td>2467.4</td>\n",
       "      <td>34.1869038031609</td>\n",
       "      <td>7.79327701365584</td>\n",
       "      <td>3.95702111893294</td>\n",
       "      <td>9.72537033334455</td>\n",
       "      <td>17.7204943756918</td>\n",
       "      <td>20.4338091627685</td>\n",
       "      <td>2.41229503539891</td>\n",
       "      <td>31.3161801309262</td>\n",
       "      <td>33.8550370763242</td>\n",
       "      <td>22.83121</td>\n",
       "      <td>NaN</td>\n",
       "    </tr>\n",
       "    <tr>\n",
       "      <th>2</th>\n",
       "      <td>Tata Consultancy Services Ltd</td>\n",
       "      <td>TCS</td>\n",
       "      <td>IT Services &amp; Consulting</td>\n",
       "      <td>1358569.09301858</td>\n",
       "      <td>3626.7</td>\n",
       "      <td>41.8923556280783</td>\n",
       "      <td>37.7406797511885</td>\n",
       "      <td>25.9323822927329</td>\n",
       "      <td>19.3830650704377</td>\n",
       "      <td>29.0725284004738</td>\n",
       "      <td>28.9652204577105</td>\n",
       "      <td>2.80164793904623</td>\n",
       "      <td>23.8749940753093</td>\n",
       "      <td>8.94866143178583</td>\n",
       "      <td>7.46544519447123</td>\n",
       "      <td>NaN</td>\n",
       "    </tr>\n",
       "    <tr>\n",
       "      <th>3</th>\n",
       "      <td>HDFC Bank Ltd</td>\n",
       "      <td>HDFCBANK</td>\n",
       "      <td>Private Banks</td>\n",
       "      <td>820636.27491</td>\n",
       "      <td>1486.5</td>\n",
       "      <td>25.7792579731186</td>\n",
       "      <td>16.4352004229457</td>\n",
       "      <td>1.883433</td>\n",
       "      <td>20.4209159723686</td>\n",
       "      <td>28.2061160124953</td>\n",
       "      <td>28.3420941568116</td>\n",
       "      <td>-16.8333096307193</td>\n",
       "      <td>15.5878574220899</td>\n",
       "      <td>NaN</td>\n",
       "      <td>NaN</td>\n",
       "      <td>NaN</td>\n",
       "    </tr>\n",
       "    <tr>\n",
       "      <th>4</th>\n",
       "      <td>Infosys Ltd</td>\n",
       "      <td>INFY</td>\n",
       "      <td>IT Services &amp; Consulting</td>\n",
       "      <td>777500.975989</td>\n",
       "      <td>1853.05</td>\n",
       "      <td>40.1788525651729</td>\n",
       "      <td>27.135305</td>\n",
       "      <td>19.4178946470591</td>\n",
       "      <td>18.8472139705668</td>\n",
       "      <td>28.656802</td>\n",
       "      <td>29.3066336816885</td>\n",
       "      <td>21.7308437107461</td>\n",
       "      <td>29.1145348466698</td>\n",
       "      <td>6.93521919199813</td>\n",
       "      <td>5.97405641947331</td>\n",
       "      <td>NaN</td>\n",
       "    </tr>\n",
       "  </tbody>\n",
       "</table>\n",
       "</div>"
      ],
      "text/plain": [
       "  Data Analytics  -Indian Stock Market Top 2000 Unnamed: 1  \\\n",
       "0                                          Name     Ticker   \n",
       "1                       Reliance Industries Ltd   RELIANCE   \n",
       "2                 Tata Consultancy Services Ltd        TCS   \n",
       "3                                 HDFC Bank Ltd   HDFCBANK   \n",
       "4                                   Infosys Ltd       INFY   \n",
       "\n",
       "                         Unnamed: 2        Unnamed: 3   Unnamed: 4  \\\n",
       "0                        Sub-Sector        Market Cap  Close Price   \n",
       "1  Oil & Gas - Refining & Marketing  1679534.21004169       2467.4   \n",
       "2          IT Services & Consulting  1358569.09301858       3626.7   \n",
       "3                     Private Banks      820636.27491       1486.5   \n",
       "4          IT Services & Consulting     777500.975989      1853.05   \n",
       "\n",
       "         Unnamed: 5        Unnamed: 6        Unnamed: 7         Unnamed: 8  \\\n",
       "0          PE Ratio  Return on Equity  Return on Assets  Net Profit Margin   \n",
       "1  34.1869038031609  7.79327701365584  3.95702111893294   9.72537033334455   \n",
       "2  41.8923556280783  37.7406797511885  25.9323822927329   19.3830650704377   \n",
       "3  25.7792579731186  16.4352004229457          1.883433   20.4209159723686   \n",
       "4  40.1788525651729         27.135305  19.4178946470591   18.8472139705668   \n",
       "\n",
       "             Unnamed: 9       Unnamed: 10         Unnamed: 11  \\\n",
       "0  5Y Avg EBITDA Margin     EBITDA Margin  1Y Return vs Nifty   \n",
       "1      17.7204943756918  20.4338091627685    2.41229503539891   \n",
       "2      29.0725284004738  28.9652204577105    2.80164793904623   \n",
       "3      28.2061160124953  28.3420941568116   -16.8333096307193   \n",
       "4             28.656802  29.3066336816885    21.7308437107461   \n",
       "\n",
       "        Unnamed: 12       Unnamed: 13               Unnamed: 14  Unnamed: 15  \n",
       "0           5Y CAGR    Debt to Equity  Long Term Debt to Equity          NaN  \n",
       "1  31.3161801309262  33.8550370763242                  22.83121          NaN  \n",
       "2  23.8749940753093  8.94866143178583          7.46544519447123          NaN  \n",
       "3  15.5878574220899               NaN                       NaN          NaN  \n",
       "4  29.1145348466698  6.93521919199813          5.97405641947331          NaN  "
      ]
     },
     "execution_count": 3,
     "metadata": {},
     "output_type": "execute_result"
    }
   ],
   "source": [
    "data = pd.read_excel (r'C:\\\\Users\\\\admin\\\\Downloads\\\\_Data Analytics  -Indian Stock Market Top 2000.xlsx')\n",
    "df = pd.DataFrame(data)\n",
    "df.head()"
   ]
  },
  {
   "cell_type": "code",
   "execution_count": 4,
   "id": "b98e3535",
   "metadata": {},
   "outputs": [
    {
     "data": {
      "text/html": [
       "<div>\n",
       "<style scoped>\n",
       "    .dataframe tbody tr th:only-of-type {\n",
       "        vertical-align: middle;\n",
       "    }\n",
       "\n",
       "    .dataframe tbody tr th {\n",
       "        vertical-align: top;\n",
       "    }\n",
       "\n",
       "    .dataframe thead th {\n",
       "        text-align: right;\n",
       "    }\n",
       "</style>\n",
       "<table border=\"1\" class=\"dataframe\">\n",
       "  <thead>\n",
       "    <tr style=\"text-align: right;\">\n",
       "      <th></th>\n",
       "      <th>id</th>\n",
       "      <th>comment_text</th>\n",
       "      <th>malignant</th>\n",
       "      <th>highly_malignant</th>\n",
       "      <th>rude</th>\n",
       "      <th>threat</th>\n",
       "      <th>abuse</th>\n",
       "      <th>loathe</th>\n",
       "    </tr>\n",
       "  </thead>\n",
       "  <tbody>\n",
       "    <tr>\n",
       "      <th>0</th>\n",
       "      <td>0000997932d777bf</td>\n",
       "      <td>Explanation\\nWhy the edits made under my usern...</td>\n",
       "      <td>0</td>\n",
       "      <td>0</td>\n",
       "      <td>0</td>\n",
       "      <td>0</td>\n",
       "      <td>0</td>\n",
       "      <td>0</td>\n",
       "    </tr>\n",
       "    <tr>\n",
       "      <th>1</th>\n",
       "      <td>000103f0d9cfb60f</td>\n",
       "      <td>D'aww! He matches this background colour I'm s...</td>\n",
       "      <td>0</td>\n",
       "      <td>0</td>\n",
       "      <td>0</td>\n",
       "      <td>0</td>\n",
       "      <td>0</td>\n",
       "      <td>0</td>\n",
       "    </tr>\n",
       "    <tr>\n",
       "      <th>2</th>\n",
       "      <td>000113f07ec002fd</td>\n",
       "      <td>Hey man, I'm really not trying to edit war. It...</td>\n",
       "      <td>0</td>\n",
       "      <td>0</td>\n",
       "      <td>0</td>\n",
       "      <td>0</td>\n",
       "      <td>0</td>\n",
       "      <td>0</td>\n",
       "    </tr>\n",
       "    <tr>\n",
       "      <th>3</th>\n",
       "      <td>0001b41b1c6bb37e</td>\n",
       "      <td>\"\\nMore\\nI can't make any real suggestions on ...</td>\n",
       "      <td>0</td>\n",
       "      <td>0</td>\n",
       "      <td>0</td>\n",
       "      <td>0</td>\n",
       "      <td>0</td>\n",
       "      <td>0</td>\n",
       "    </tr>\n",
       "    <tr>\n",
       "      <th>4</th>\n",
       "      <td>0001d958c54c6e35</td>\n",
       "      <td>You, sir, are my hero. Any chance you remember...</td>\n",
       "      <td>0</td>\n",
       "      <td>0</td>\n",
       "      <td>0</td>\n",
       "      <td>0</td>\n",
       "      <td>0</td>\n",
       "      <td>0</td>\n",
       "    </tr>\n",
       "  </tbody>\n",
       "</table>\n",
       "</div>"
      ],
      "text/plain": [
       "                 id                                       comment_text  \\\n",
       "0  0000997932d777bf  Explanation\\nWhy the edits made under my usern...   \n",
       "1  000103f0d9cfb60f  D'aww! He matches this background colour I'm s...   \n",
       "2  000113f07ec002fd  Hey man, I'm really not trying to edit war. It...   \n",
       "3  0001b41b1c6bb37e  \"\\nMore\\nI can't make any real suggestions on ...   \n",
       "4  0001d958c54c6e35  You, sir, are my hero. Any chance you remember...   \n",
       "\n",
       "   malignant  highly_malignant  rude  threat  abuse  loathe  \n",
       "0          0                 0     0       0      0       0  \n",
       "1          0                 0     0       0      0       0  \n",
       "2          0                 0     0       0      0       0  \n",
       "3          0                 0     0       0      0       0  \n",
       "4          0                 0     0       0      0       0  "
      ]
     },
     "execution_count": 4,
     "metadata": {},
     "output_type": "execute_result"
    }
   ],
   "source": [
    "train=pd.read_csv(r'C:/Users/admin/Downloads/train.csv')\n",
    "train.head()"
   ]
  },
  {
   "cell_type": "code",
   "execution_count": 5,
   "id": "52a09a2f",
   "metadata": {},
   "outputs": [
    {
     "data": {
      "text/html": [
       "<div>\n",
       "<style scoped>\n",
       "    .dataframe tbody tr th:only-of-type {\n",
       "        vertical-align: middle;\n",
       "    }\n",
       "\n",
       "    .dataframe tbody tr th {\n",
       "        vertical-align: top;\n",
       "    }\n",
       "\n",
       "    .dataframe thead th {\n",
       "        text-align: right;\n",
       "    }\n",
       "</style>\n",
       "<table border=\"1\" class=\"dataframe\">\n",
       "  <thead>\n",
       "    <tr style=\"text-align: right;\">\n",
       "      <th></th>\n",
       "      <th>id</th>\n",
       "      <th>comment_text</th>\n",
       "    </tr>\n",
       "  </thead>\n",
       "  <tbody>\n",
       "    <tr>\n",
       "      <th>0</th>\n",
       "      <td>00001cee341fdb12</td>\n",
       "      <td>Yo bitch Ja Rule is more succesful then you'll...</td>\n",
       "    </tr>\n",
       "    <tr>\n",
       "      <th>1</th>\n",
       "      <td>0000247867823ef7</td>\n",
       "      <td>== From RfC == \\n\\n The title is fine as it is...</td>\n",
       "    </tr>\n",
       "    <tr>\n",
       "      <th>2</th>\n",
       "      <td>00013b17ad220c46</td>\n",
       "      <td>\" \\n\\n == Sources == \\n\\n * Zawe Ashton on Lap...</td>\n",
       "    </tr>\n",
       "    <tr>\n",
       "      <th>3</th>\n",
       "      <td>00017563c3f7919a</td>\n",
       "      <td>:If you have a look back at the source, the in...</td>\n",
       "    </tr>\n",
       "    <tr>\n",
       "      <th>4</th>\n",
       "      <td>00017695ad8997eb</td>\n",
       "      <td>I don't anonymously edit articles at all.</td>\n",
       "    </tr>\n",
       "  </tbody>\n",
       "</table>\n",
       "</div>"
      ],
      "text/plain": [
       "                 id                                       comment_text\n",
       "0  00001cee341fdb12  Yo bitch Ja Rule is more succesful then you'll...\n",
       "1  0000247867823ef7  == From RfC == \\n\\n The title is fine as it is...\n",
       "2  00013b17ad220c46  \" \\n\\n == Sources == \\n\\n * Zawe Ashton on Lap...\n",
       "3  00017563c3f7919a  :If you have a look back at the source, the in...\n",
       "4  00017695ad8997eb          I don't anonymously edit articles at all."
      ]
     },
     "execution_count": 5,
     "metadata": {},
     "output_type": "execute_result"
    }
   ],
   "source": [
    "test=pd.read_csv(r'C:/Users/admin/Downloads/test.csv')\n",
    "test.head()"
   ]
  },
  {
   "cell_type": "code",
   "execution_count": 6,
   "id": "e143ae1f",
   "metadata": {},
   "outputs": [
    {
     "name": "stdout",
     "output_type": "stream",
     "text": [
      "train shape is  (159571, 8)\n",
      "test shape is  (153164, 2)\n",
      "test info <bound method DataFrame.info of                       id                                       comment_text\n",
      "0       00001cee341fdb12  Yo bitch Ja Rule is more succesful then you'll...\n",
      "1       0000247867823ef7  == From RfC == \\n\\n The title is fine as it is...\n",
      "2       00013b17ad220c46  \" \\n\\n == Sources == \\n\\n * Zawe Ashton on Lap...\n",
      "3       00017563c3f7919a  :If you have a look back at the source, the in...\n",
      "4       00017695ad8997eb          I don't anonymously edit articles at all.\n",
      "...                  ...                                                ...\n",
      "153159  fffcd0960ee309b5  . \\n i totally agree, this stuff is nothing bu...\n",
      "153160  fffd7a9a6eb32c16  == Throw from out field to home plate. == \\n\\n...\n",
      "153161  fffda9e8d6fafa9e  \" \\n\\n == Okinotorishima categories == \\n\\n I ...\n",
      "153162  fffe8f1340a79fc2  \" \\n\\n == \"\"One of the founding nations of the...\n",
      "153163  ffffce3fb183ee80  \" \\n :::Stop already. Your bullshit is not wel...\n",
      "\n",
      "[153164 rows x 2 columns]>\n",
      "train info <bound method DataFrame.info of                       id                                       comment_text  \\\n",
      "0       0000997932d777bf  Explanation\\nWhy the edits made under my usern...   \n",
      "1       000103f0d9cfb60f  D'aww! He matches this background colour I'm s...   \n",
      "2       000113f07ec002fd  Hey man, I'm really not trying to edit war. It...   \n",
      "3       0001b41b1c6bb37e  \"\\nMore\\nI can't make any real suggestions on ...   \n",
      "4       0001d958c54c6e35  You, sir, are my hero. Any chance you remember...   \n",
      "...                  ...                                                ...   \n",
      "159566  ffe987279560d7ff  \":::::And for the second time of asking, when ...   \n",
      "159567  ffea4adeee384e90  You should be ashamed of yourself \\n\\nThat is ...   \n",
      "159568  ffee36eab5c267c9  Spitzer \\n\\nUmm, theres no actual article for ...   \n",
      "159569  fff125370e4aaaf3  And it looks like it was actually you who put ...   \n",
      "159570  fff46fc426af1f9a  \"\\nAnd ... I really don't think you understand...   \n",
      "\n",
      "        malignant  highly_malignant  rude  threat  abuse  loathe  \n",
      "0               0                 0     0       0      0       0  \n",
      "1               0                 0     0       0      0       0  \n",
      "2               0                 0     0       0      0       0  \n",
      "3               0                 0     0       0      0       0  \n",
      "4               0                 0     0       0      0       0  \n",
      "...           ...               ...   ...     ...    ...     ...  \n",
      "159566          0                 0     0       0      0       0  \n",
      "159567          0                 0     0       0      0       0  \n",
      "159568          0                 0     0       0      0       0  \n",
      "159569          0                 0     0       0      0       0  \n",
      "159570          0                 0     0       0      0       0  \n",
      "\n",
      "[159571 rows x 8 columns]>\n"
     ]
    }
   ],
   "source": [
    "print('train shape is ',train.shape)\n",
    "print('test shape is ',test.shape)\n",
    "print('test info',test.info)\n",
    "\n",
    "\n",
    "print('train info',train.info)"
   ]
  },
  {
   "cell_type": "code",
   "execution_count": 7,
   "id": "b5802eae",
   "metadata": {},
   "outputs": [
    {
     "name": "stdout",
     "output_type": "stream",
     "text": [
      "train data Set descriptin            malignant  highly_malignant           rude         threat  \\\n",
      "count  159571.000000     159571.000000  159571.000000  159571.000000   \n",
      "mean        0.095844          0.009996       0.052948       0.002996   \n",
      "std         0.294379          0.099477       0.223931       0.054650   \n",
      "min         0.000000          0.000000       0.000000       0.000000   \n",
      "25%         0.000000          0.000000       0.000000       0.000000   \n",
      "50%         0.000000          0.000000       0.000000       0.000000   \n",
      "75%         0.000000          0.000000       0.000000       0.000000   \n",
      "max         1.000000          1.000000       1.000000       1.000000   \n",
      "\n",
      "               abuse         loathe  \n",
      "count  159571.000000  159571.000000  \n",
      "mean        0.049364       0.008805  \n",
      "std         0.216627       0.093420  \n",
      "min         0.000000       0.000000  \n",
      "25%         0.000000       0.000000  \n",
      "50%         0.000000       0.000000  \n",
      "75%         0.000000       0.000000  \n",
      "max         1.000000       1.000000  \n",
      "test data Set descriptin                       id                                       comment_text\n",
      "count             153164                                             153164\n",
      "unique            153164                                             153164\n",
      "top     e980d5ebbf33403d  big flying poop was down the dingle wit and he...\n",
      "freq                   1                                                  1\n"
     ]
    }
   ],
   "source": [
    "print('train data Set descriptin',train.describe())\n",
    "print('test data Set descriptin',test.describe())"
   ]
  },
  {
   "cell_type": "code",
   "execution_count": 8,
   "id": "a00ec3c0",
   "metadata": {},
   "outputs": [
    {
     "name": "stdout",
     "output_type": "stream",
     "text": [
      "id                  0\n",
      "comment_text        0\n",
      "malignant           0\n",
      "highly_malignant    0\n",
      "rude                0\n",
      "threat              0\n",
      "abuse               0\n",
      "loathe              0\n",
      "dtype: int64\n",
      "AxesSubplot(0.125,0.125;0.62x0.755)\n"
     ]
    },
    {
     "data": {
      "image/png": "[encoded data removed]",
      "text/plain": [
       "<Figure size 432x288 with 2 Axes>"
      ]
     },
     "metadata": {
      "needs_background": "light"
     },
     "output_type": "display_data"
    }
   ],
   "source": [
    "# checking null values\n",
    "print(train.isnull().sum())\n",
    "print(sns.heatmap(train.isnull()))"
   ]
  },
  {
   "cell_type": "code",
   "execution_count": 9,
   "id": "403a6376",
   "metadata": {},
   "outputs": [
    {
     "name": "stdout",
     "output_type": "stream",
     "text": [
      "                  malignant  highly_malignant      rude    threat     abuse  \\\n",
      "malignant          1.000000          0.308619  0.676515  0.157058  0.647518   \n",
      "highly_malignant   0.308619          1.000000  0.403014  0.123601  0.375807   \n",
      "rude               0.676515          0.403014  1.000000  0.141179  0.741272   \n",
      "threat             0.157058          0.123601  0.141179  1.000000  0.150022   \n",
      "abuse              0.647518          0.375807  0.741272  0.150022  1.000000   \n",
      "loathe             0.266009          0.201600  0.286867  0.115128  0.337736   \n",
      "\n",
      "                    loathe  \n",
      "malignant         0.266009  \n",
      "highly_malignant  0.201600  \n",
      "rude              0.286867  \n",
      "threat            0.115128  \n",
      "abuse             0.337736  \n",
      "loathe            1.000000  \n",
      "AxesSubplot(0.125,0.125;0.62x0.755)\n"
     ]
    },
    {
     "data": {
      "image/png": "[encoded data removed]",
      "text/plain": [
       "<Figure size 432x288 with 2 Axes>"
      ]
     },
     "metadata": {
      "needs_background": "light"
     },
     "output_type": "display_data"
    }
   ],
   "source": [
    "## checking correlation in dataset\n",
    "print(train.corr())\n",
    "print(sns.heatmap(train.corr()))"
   ]
  },
  {
   "cell_type": "code",
   "execution_count": 10,
   "id": "b4c4bbd7",
   "metadata": {},
   "outputs": [
    {
     "data": {
      "text/plain": [
       "malignant            2.745854\n",
       "highly_malignant     9.851722\n",
       "rude                 3.992817\n",
       "threat              18.189001\n",
       "abuse                4.160540\n",
       "loathe              10.515923\n",
       "dtype: float64"
      ]
     },
     "execution_count": 10,
     "metadata": {},
     "output_type": "execute_result"
    }
   ],
   "source": [
    "# checking the skewness for the features:\n",
    "train.skew()"
   ]
  },
  {
   "cell_type": "code",
   "execution_count": 36,
   "id": "85befa30",
   "metadata": {},
   "outputs": [],
   "source": [
    "import warnings\n",
    "warnings.simplefilter(\"ignore\")\n",
    "warnings.filterwarnings(\"ignore\")"
   ]
  },
  {
   "cell_type": "code",
   "execution_count": 37,
   "id": "a5506517",
   "metadata": {},
   "outputs": [
    {
     "name": "stdout",
     "output_type": "stream",
     "text": [
      "malignant\n",
      "\n",
      "\n",
      "0    144277\n",
      "1     15294\n",
      "Name: malignant, dtype: int64\n"
     ]
    },
    {
     "data": {
      "image/png": "[encoded data removed]",
      "text/plain": [
       "<Figure size 432x288 with 1 Axes>"
      ]
     },
     "metadata": {},
     "output_type": "display_data"
    },
    {
     "name": "stdout",
     "output_type": "stream",
     "text": [
      "highly_malignant\n",
      "\n",
      "\n",
      "0    157976\n",
      "1      1595\n",
      "Name: highly_malignant, dtype: int64\n"
     ]
    },
    {
     "data": {
      "image/png": "[encoded data removed]",
      "text/plain": [
       "<Figure size 432x288 with 1 Axes>"
      ]
     },
     "metadata": {},
     "output_type": "display_data"
    },
    {
     "name": "stdout",
     "output_type": "stream",
     "text": [
      "loathe\n",
      "\n",
      "\n",
      "0    158166\n",
      "1      1405\n",
      "Name: loathe, dtype: int64\n"
     ]
    },
    {
     "data": {
      "image/png": "[encoded data removed]",
      "text/plain": [
       "<Figure size 432x288 with 1 Axes>"
      ]
     },
     "metadata": {},
     "output_type": "display_data"
    },
    {
     "name": "stdout",
     "output_type": "stream",
     "text": [
      "rude\n",
      "\n",
      "\n",
      "0    151122\n",
      "1      8449\n",
      "Name: rude, dtype: int64\n"
     ]
    },
    {
     "data": {
      "image/png": "[encoded data removed]",
      "text/plain": [
       "<Figure size 432x288 with 1 Axes>"
      ]
     },
     "metadata": {},
     "output_type": "display_data"
    },
    {
     "name": "stdout",
     "output_type": "stream",
     "text": [
      "abuse\n",
      "\n",
      "\n",
      "0    151694\n",
      "1      7877\n",
      "Name: abuse, dtype: int64\n"
     ]
    },
    {
     "data": {
      "image/png": "[encoded data removed]",
      "text/plain": [
       "<Figure size 432x288 with 1 Axes>"
      ]
     },
     "metadata": {},
     "output_type": "display_data"
    },
    {
     "name": "stdout",
     "output_type": "stream",
     "text": [
      "threat\n",
      "\n",
      "\n",
      "0    159093\n",
      "1       478\n",
      "Name: threat, dtype: int64\n"
     ]
    },
    {
     "data": {
      "image/png": "[encoded data removed]",
      "text/plain": [
       "<Figure size 432x288 with 1 Axes>"
      ]
     },
     "metadata": {},
     "output_type": "display_data"
    }
   ],
   "source": [
    "col=['malignant','highly_malignant','loathe','rude','abuse','threat']\n",
    "for i in col:\n",
    "    print(i)\n",
    "    print(\"\\n\")\n",
    "    print(train[i].value_counts())\n",
    "    sns.countplot(train[i])\n",
    "    plt.show()"
   ]
  },
  {
   "cell_type": "code",
   "execution_count": 38,
   "id": "6ce03a12",
   "metadata": {},
   "outputs": [],
   "source": [
    "from nltk.stem import WordNetLemmatizer\n",
    "import nltk\n",
    "from nltk.corpus import  stopwords\n",
    "import string"
   ]
  },
  {
   "cell_type": "code",
   "execution_count": 39,
   "id": "18d214ae",
   "metadata": {},
   "outputs": [
    {
     "data": {
      "text/html": [
       "<div>\n",
       "<style scoped>\n",
       "    .dataframe tbody tr th:only-of-type {\n",
       "        vertical-align: middle;\n",
       "    }\n",
       "\n",
       "    .dataframe tbody tr th {\n",
       "        vertical-align: top;\n",
       "    }\n",
       "\n",
       "    .dataframe thead th {\n",
       "        text-align: right;\n",
       "    }\n",
       "</style>\n",
       "<table border=\"1\" class=\"dataframe\">\n",
       "  <thead>\n",
       "    <tr style=\"text-align: right;\">\n",
       "      <th></th>\n",
       "      <th>id</th>\n",
       "      <th>comment_text</th>\n",
       "      <th>malignant</th>\n",
       "      <th>highly_malignant</th>\n",
       "      <th>rude</th>\n",
       "      <th>threat</th>\n",
       "      <th>abuse</th>\n",
       "      <th>loathe</th>\n",
       "      <th>length</th>\n",
       "      <th>clean_length</th>\n",
       "      <th>bad</th>\n",
       "    </tr>\n",
       "  </thead>\n",
       "  <tbody>\n",
       "    <tr>\n",
       "      <th>0</th>\n",
       "      <td>0000997932d777bf</td>\n",
       "      <td>explanation edits made username hardcore metal...</td>\n",
       "      <td>0</td>\n",
       "      <td>0</td>\n",
       "      <td>0</td>\n",
       "      <td>0</td>\n",
       "      <td>0</td>\n",
       "      <td>0</td>\n",
       "      <td>181</td>\n",
       "      <td>181</td>\n",
       "      <td>0</td>\n",
       "    </tr>\n",
       "    <tr>\n",
       "      <th>1</th>\n",
       "      <td>000103f0d9cfb60f</td>\n",
       "      <td>d'aww! matches background colour i'm seemingly...</td>\n",
       "      <td>0</td>\n",
       "      <td>0</td>\n",
       "      <td>0</td>\n",
       "      <td>0</td>\n",
       "      <td>0</td>\n",
       "      <td>0</td>\n",
       "      <td>113</td>\n",
       "      <td>113</td>\n",
       "      <td>0</td>\n",
       "    </tr>\n",
       "  </tbody>\n",
       "</table>\n",
       "</div>"
      ],
      "text/plain": [
       "                 id                                       comment_text  \\\n",
       "0  0000997932d777bf  explanation edits made username hardcore metal...   \n",
       "1  000103f0d9cfb60f  d'aww! matches background colour i'm seemingly...   \n",
       "\n",
       "   malignant  highly_malignant  rude  threat  abuse  loathe  length  \\\n",
       "0          0                 0     0       0      0       0     181   \n",
       "1          0                 0     0       0      0       0     113   \n",
       "\n",
       "   clean_length  bad  \n",
       "0           181    0  \n",
       "1           113    0  "
      ]
     },
     "execution_count": 39,
     "metadata": {},
     "output_type": "execute_result"
    }
   ],
   "source": [
    "train['length'] = train['comment_text'].str.len()\n",
    "train.head(2)"
   ]
  },
  {
   "cell_type": "code",
   "execution_count": 48,
   "id": "40e4cb68",
   "metadata": {},
   "outputs": [
    {
     "name": "stderr",
     "output_type": "stream",
     "text": [
      "[nltk_data] Downloading package stopwords to\n",
      "[nltk_data]     C:\\Users\\admin\\AppData\\Roaming\\nltk_data...\n",
      "[nltk_data]   Package stopwords is already up-to-date!\n"
     ]
    },
    {
     "data": {
      "text/plain": [
       "True"
      ]
     },
     "execution_count": 48,
     "metadata": {},
     "output_type": "execute_result"
    }
   ],
   "source": [
    "import nltk\n",
    "nltk.download('stopwords')"
   ]
  },
  {
   "cell_type": "code",
   "execution_count": 41,
   "id": "2555071b",
   "metadata": {},
   "outputs": [],
   "source": [
    "# Convert all messages to lower case\n",
    "train['comment_text'] = train['comment_text'].str.lower()"
   ]
  },
  {
   "cell_type": "code",
   "execution_count": 42,
   "id": "94c2fcba",
   "metadata": {},
   "outputs": [],
   "source": [
    "# Replace email addresses with 'email'\n",
    "train['comment_text'] = train['comment_text'].str.replace(r'^.+@[^\\.].*\\.[a-z]{2,}$',\n",
    "                                 'emailaddress')"
   ]
  },
  {
   "cell_type": "code",
   "execution_count": 43,
   "id": "008f50fa",
   "metadata": {},
   "outputs": [],
   "source": [
    "# Replace URLs with 'webaddress'\n",
    "train['comment_text'] = train['comment_text'].str.replace(r'^http\\://[a-zA-Z0-9\\-\\.]+\\.[a-zA-Z]{2,3}(/\\S*)?$',\n",
    "                                  'webaddress')"
   ]
  },
  {
   "cell_type": "code",
   "execution_count": 44,
   "id": "f1351bd5",
   "metadata": {},
   "outputs": [],
   "source": [
    "\n",
    "# Replace money symbols with 'moneysymb' (£ can by typed with ALT key + 156)\n",
    "train['comment_text'] = train['comment_text'].str.replace(r'£|\\$', 'dollers')"
   ]
  },
  {
   "cell_type": "code",
   "execution_count": 45,
   "id": "cc0407be",
   "metadata": {},
   "outputs": [],
   "source": [
    "# Replace 10 digit phone numbers (formats include paranthesis, spaces, no spaces, dashes) with 'phonenumber'\n",
    "train['comment_text'] = train['comment_text'].str.replace(r'^\\(?[\\d]{3}\\)?[\\s-]?[\\d]{3}[\\s-]?[\\d]{4}$',\n",
    "                                  'phonenumber')"
   ]
  },
  {
   "cell_type": "code",
   "execution_count": 46,
   "id": "a6fda8a9",
   "metadata": {},
   "outputs": [],
   "source": [
    "# Replace numbers with 'numbr'\n",
    "train['comment_text'] = train['comment_text'].str.replace(r'\\d+(\\.\\d+)?', 'numbr')\n",
    "\n",
    "\n",
    "train['comment_text'] = train['comment_text'].apply(lambda x: ' '.join(\n",
    "    term for term in x.split() if term not in string.punctuation))"
   ]
  },
  {
   "cell_type": "code",
   "execution_count": 47,
   "id": "3bcc86c5",
   "metadata": {},
   "outputs": [],
   "source": [
    "stop_words = set(stopwords.words('english') + ['u', 'ü', 'ur', '4', '2', 'im', 'dont', 'doin', 'ure'])\n",
    "train['comment_text'] = train['comment_text'].apply(lambda x: ' '.join(\n",
    "    term for term in x.split() if term not in stop_words))"
   ]
  },
  {
   "cell_type": "code",
   "execution_count": 22,
   "id": "ce3ed57d",
   "metadata": {},
   "outputs": [
    {
     "data": {
      "text/html": [
       "<div>\n",
       "<style scoped>\n",
       "    .dataframe tbody tr th:only-of-type {\n",
       "        vertical-align: middle;\n",
       "    }\n",
       "\n",
       "    .dataframe tbody tr th {\n",
       "        vertical-align: top;\n",
       "    }\n",
       "\n",
       "    .dataframe thead th {\n",
       "        text-align: right;\n",
       "    }\n",
       "</style>\n",
       "<table border=\"1\" class=\"dataframe\">\n",
       "  <thead>\n",
       "    <tr style=\"text-align: right;\">\n",
       "      <th></th>\n",
       "      <th>id</th>\n",
       "      <th>comment_text</th>\n",
       "      <th>malignant</th>\n",
       "      <th>highly_malignant</th>\n",
       "      <th>rude</th>\n",
       "      <th>threat</th>\n",
       "      <th>abuse</th>\n",
       "      <th>loathe</th>\n",
       "      <th>length</th>\n",
       "      <th>clean_length</th>\n",
       "    </tr>\n",
       "  </thead>\n",
       "  <tbody>\n",
       "    <tr>\n",
       "      <th>0</th>\n",
       "      <td>0000997932d777bf</td>\n",
       "      <td>explanation edits made username hardcore metal...</td>\n",
       "      <td>0</td>\n",
       "      <td>0</td>\n",
       "      <td>0</td>\n",
       "      <td>0</td>\n",
       "      <td>0</td>\n",
       "      <td>0</td>\n",
       "      <td>264</td>\n",
       "      <td>181</td>\n",
       "    </tr>\n",
       "    <tr>\n",
       "      <th>1</th>\n",
       "      <td>000103f0d9cfb60f</td>\n",
       "      <td>d'aww! matches background colour i'm seemingly...</td>\n",
       "      <td>0</td>\n",
       "      <td>0</td>\n",
       "      <td>0</td>\n",
       "      <td>0</td>\n",
       "      <td>0</td>\n",
       "      <td>0</td>\n",
       "      <td>112</td>\n",
       "      <td>113</td>\n",
       "    </tr>\n",
       "    <tr>\n",
       "      <th>2</th>\n",
       "      <td>000113f07ec002fd</td>\n",
       "      <td>hey man, i'm really trying edit war. guy const...</td>\n",
       "      <td>0</td>\n",
       "      <td>0</td>\n",
       "      <td>0</td>\n",
       "      <td>0</td>\n",
       "      <td>0</td>\n",
       "      <td>0</td>\n",
       "      <td>233</td>\n",
       "      <td>149</td>\n",
       "    </tr>\n",
       "    <tr>\n",
       "      <th>3</th>\n",
       "      <td>0001b41b1c6bb37e</td>\n",
       "      <td>can't make real suggestions improvement wonder...</td>\n",
       "      <td>0</td>\n",
       "      <td>0</td>\n",
       "      <td>0</td>\n",
       "      <td>0</td>\n",
       "      <td>0</td>\n",
       "      <td>0</td>\n",
       "      <td>622</td>\n",
       "      <td>404</td>\n",
       "    </tr>\n",
       "    <tr>\n",
       "      <th>4</th>\n",
       "      <td>0001d958c54c6e35</td>\n",
       "      <td>you, sir, hero. chance remember page that's on?</td>\n",
       "      <td>0</td>\n",
       "      <td>0</td>\n",
       "      <td>0</td>\n",
       "      <td>0</td>\n",
       "      <td>0</td>\n",
       "      <td>0</td>\n",
       "      <td>67</td>\n",
       "      <td>47</td>\n",
       "    </tr>\n",
       "  </tbody>\n",
       "</table>\n",
       "</div>"
      ],
      "text/plain": [
       "                 id                                       comment_text  \\\n",
       "0  0000997932d777bf  explanation edits made username hardcore metal...   \n",
       "1  000103f0d9cfb60f  d'aww! matches background colour i'm seemingly...   \n",
       "2  000113f07ec002fd  hey man, i'm really trying edit war. guy const...   \n",
       "3  0001b41b1c6bb37e  can't make real suggestions improvement wonder...   \n",
       "4  0001d958c54c6e35    you, sir, hero. chance remember page that's on?   \n",
       "\n",
       "   malignant  highly_malignant  rude  threat  abuse  loathe  length  \\\n",
       "0          0                 0     0       0      0       0     264   \n",
       "1          0                 0     0       0      0       0     112   \n",
       "2          0                 0     0       0      0       0     233   \n",
       "3          0                 0     0       0      0       0     622   \n",
       "4          0                 0     0       0      0       0      67   \n",
       "\n",
       "   clean_length  \n",
       "0           181  \n",
       "1           113  \n",
       "2           149  \n",
       "3           404  \n",
       "4            47  "
      ]
     },
     "execution_count": 22,
     "metadata": {},
     "output_type": "execute_result"
    }
   ],
   "source": [
    "train['clean_length'] = train.comment_text.str.len()\n",
    "train.head()"
   ]
  },
  {
   "cell_type": "code",
   "execution_count": 23,
   "id": "c5dead39",
   "metadata": {},
   "outputs": [
    {
     "name": "stdout",
     "output_type": "stream",
     "text": [
      "Origian Length 62893130\n",
      "Clean Length 43973223\n"
     ]
    }
   ],
   "source": [
    "# Total length removal\n",
    "print ('Origian Length', train.length.sum())\n",
    "print ('Clean Length', train.clean_length.sum())"
   ]
  },
  {
   "cell_type": "code",
   "execution_count": 24,
   "id": "e9b17e75",
   "metadata": {},
   "outputs": [],
   "source": [
    "from sklearn.naive_bayes import MultinomialNB\n",
    "from sklearn.model_selection import train_test_split\n",
    "from sklearn.metrics import accuracy_score, confusion_matrix, classification_report,roc_curve,roc_auc_score,auc\n",
    "from sklearn.model_selection import train_test_split\n",
    "from sklearn.metrics import accuracy_score,classification_report,confusion_matrix,f1_score\n",
    "from sklearn.linear_model import LogisticRegression\n",
    "from sklearn.model_selection import cross_val_score,GridSearchCV\n",
    "from sklearn.naive_bayes import MultinomialNB\n",
    "from sklearn.tree import DecisionTreeClassifier\n",
    "from sklearn.neighbors import KNeighborsClassifier\n",
    "from sklearn.ensemble import RandomForestClassifier,AdaBoostClassifier,GradientBoostingClassifier\n",
    "from sklearn.naive_bayes import GaussianNB\n",
    "from sklearn.linear_model import LogisticRegression\n",
    "from sklearn.svm import SVC\n",
    "from sklearn.tree import DecisionTreeClassifier"
   ]
  },
  {
   "cell_type": "code",
   "execution_count": 25,
   "id": "3d3a7381",
   "metadata": {},
   "outputs": [
    {
     "data": {
      "text/plain": [
       "<matplotlib.legend.Legend at 0x2af88fcfbe0>"
      ]
     },
     "execution_count": 25,
     "metadata": {},
     "output_type": "execute_result"
    },
    {
     "data": {
      "image/png": "[encoded data removed]",
      "text/plain": [
       "<Figure size 360x360 with 1 Axes>"
      ]
     },
     "metadata": {},
     "output_type": "display_data"
    }
   ],
   "source": [
    "cols_target = ['malignant','highly_malignant','rude','threat','abuse','loathe']\n",
    "df_distribution = train[cols_target].sum()\\\n",
    "                            .to_frame()\\\n",
    "                            .rename(columns={0: 'count'})\\\n",
    "                            .sort_values('count')\n",
    "\n",
    "df_distribution.plot.pie(y='count',\n",
    "                                      title='Label distribution over comments',\n",
    "                                      figsize=(5, 5))\\\n",
    "                            .legend(loc='center left', bbox_to_anchor=(1.3, 0.5))"
   ]
  },
  {
   "cell_type": "code",
   "execution_count": 26,
   "id": "35d66b7c",
   "metadata": {},
   "outputs": [
    {
     "name": "stdout",
     "output_type": "stream",
     "text": [
      "0    143346\n",
      "1      6360\n",
      "3      4209\n",
      "2      3480\n",
      "4      1760\n",
      "5       385\n",
      "6        31\n",
      "Name: bad, dtype: int64\n",
      "0    143346\n",
      "1     16225\n",
      "Name: bad, dtype: int64\n"
     ]
    }
   ],
   "source": [
    "target_data = train[cols_target]\n",
    "\n",
    "train['bad'] =train[cols_target].sum(axis =1)\n",
    "print(train['bad'].value_counts())\n",
    "train['bad'] = train['bad'] > 0 \n",
    "train['bad'] = train['bad'].astype(int)\n",
    "print(train['bad'].value_counts())"
   ]
  },
  {
   "cell_type": "code",
   "execution_count": 27,
   "id": "ead31873",
   "metadata": {},
   "outputs": [
    {
     "data": {
      "image/png": "[encoded data removed]",
      "text/plain": [
       "<Figure size 432x288 with 1 Axes>"
      ]
     },
     "metadata": {},
     "output_type": "display_data"
    }
   ],
   "source": [
    "sns.set()\n",
    "sns.countplot(x=\"bad\" , data = train)\n",
    "plt.show()"
   ]
  },
  {
   "cell_type": "code",
   "execution_count": 28,
   "id": "e29e3390",
   "metadata": {},
   "outputs": [],
   "source": [
    "#  Convert text into vectors using TF-IDF\n",
    "from sklearn.feature_extraction.text import TfidfVectorizer\n",
    "tf_vec = TfidfVectorizer(max_features = 10000, stop_words='english')\n",
    "features = tf_vec.fit_transform(train['comment_text'])\n",
    "x = features"
   ]
  },
  {
   "cell_type": "code",
   "execution_count": 29,
   "id": "539986fa",
   "metadata": {},
   "outputs": [
    {
     "data": {
      "text/plain": [
       "(159571, 11)"
      ]
     },
     "execution_count": 29,
     "metadata": {},
     "output_type": "execute_result"
    }
   ],
   "source": [
    "train.shape"
   ]
  },
  {
   "cell_type": "code",
   "execution_count": 30,
   "id": "3ff3595b",
   "metadata": {},
   "outputs": [
    {
     "data": {
      "text/plain": [
       "(153164, 2)"
      ]
     },
     "execution_count": 30,
     "metadata": {},
     "output_type": "execute_result"
    }
   ],
   "source": [
    "test.shape"
   ]
  },
  {
   "cell_type": "code",
   "execution_count": 31,
   "id": "35afa34b",
   "metadata": {},
   "outputs": [],
   "source": [
    "y=train['bad']\n",
    "x_train,x_test,y_train,y_test=train_test_split(x,y,random_state=56,test_size=.30)"
   ]
  },
  {
   "cell_type": "code",
   "execution_count": 32,
   "id": "2f1db42b",
   "metadata": {},
   "outputs": [
    {
     "data": {
      "text/plain": [
       "((111699,), (47872,))"
      ]
     },
     "execution_count": 32,
     "metadata": {},
     "output_type": "execute_result"
    }
   ],
   "source": [
    "y_train.shape,y_test.shape"
   ]
  },
  {
   "cell_type": "code",
   "execution_count": 33,
   "id": "be5a2308",
   "metadata": {},
   "outputs": [
    {
     "name": "stdout",
     "output_type": "stream",
     "text": [
      "Training accuracy is 0.9597937313673355\n",
      "Test accuracy is 0.955276570855615\n",
      "[[42730   220]\n",
      " [ 1921  3001]]\n",
      "              precision    recall  f1-score   support\n",
      "\n",
      "           0       0.96      0.99      0.98     42950\n",
      "           1       0.93      0.61      0.74      4922\n",
      "\n",
      "    accuracy                           0.96     47872\n",
      "   macro avg       0.94      0.80      0.86     47872\n",
      "weighted avg       0.95      0.96      0.95     47872\n",
      "\n"
     ]
    }
   ],
   "source": [
    "# LogisticRegression\n",
    "LG = LogisticRegression(C=1, max_iter = 3000)\n",
    "\n",
    "LG.fit(x_train, y_train)\n",
    "\n",
    "y_pred_train = LG.predict(x_train)\n",
    "print('Training accuracy is {}'.format(accuracy_score(y_train, y_pred_train)))\n",
    "y_pred_test = LG.predict(x_test)\n",
    "print('Test accuracy is {}'.format(accuracy_score(y_test,y_pred_test)))\n",
    "print(confusion_matrix(y_test,y_pred_test))\n",
    "print(classification_report(y_test,y_pred_test))"
   ]
  },
  {
   "cell_type": "code",
   "execution_count": 34,
   "id": "aea8b2cd",
   "metadata": {},
   "outputs": [
    {
     "name": "stdout",
     "output_type": "stream",
     "text": [
      "Training accuracy is 0.9988719684151156\n",
      "Test accuracy is 0.9399440173796791\n",
      "[[41595  1355]\n",
      " [ 1520  3402]]\n",
      "              precision    recall  f1-score   support\n",
      "\n",
      "           0       0.96      0.97      0.97     42950\n",
      "           1       0.72      0.69      0.70      4922\n",
      "\n",
      "    accuracy                           0.94     47872\n",
      "   macro avg       0.84      0.83      0.83     47872\n",
      "weighted avg       0.94      0.94      0.94     47872\n",
      "\n"
     ]
    }
   ],
   "source": [
    "# DecisionTreeClassifier\n",
    "DT = DecisionTreeClassifier()\n",
    "\n",
    "DT.fit(x_train, y_train)\n",
    "y_pred_train = DT.predict(x_train)\n",
    "print('Training accuracy is {}'.format(accuracy_score(y_train, y_pred_train)))\n",
    "y_pred_test = DT.predict(x_test)\n",
    "print('Test accuracy is {}'.format(accuracy_score(y_test,y_pred_test)))\n",
    "print(confusion_matrix(y_test,y_pred_test))\n",
    "print(classification_report(y_test,y_pred_test))"
   ]
  },
  {
   "cell_type": "code",
   "execution_count": 35,
   "id": "18a81f5e",
   "metadata": {},
   "outputs": [],
   "source": [
    "import pickle\n",
    "filename='Malignant Comment.pickle'\n",
    "pickle.dump(LG,open(filename,'wb'))"
   ]
  },
  {
   "cell_type": "code",
   "execution_count": null,
   "id": "5b70837d",
   "metadata": {},
   "outputs": [],
   "source": []
  }
 ],
 "metadata": {
  "kernelspec": {
   "display_name": "Python 3",
   "language": "python",
   "name": "python3"
  },
  "language_info": {
   "codemirror_mode": {
    "name": "ipython",
    "version": 3
   },
   "file_extension": ".py",
   "mimetype": "text/x-python",
   "name": "python",
   "nbconvert_exporter": "python",
   "pygments_lexer": "ipython3",
   "version": "3.8.8"
  }
 },
 "nbformat": 4,
 "nbformat_minor": 5
}
